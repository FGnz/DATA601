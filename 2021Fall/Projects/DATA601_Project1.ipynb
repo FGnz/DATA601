{
 "cells": [
  {
   "cell_type": "markdown",
   "metadata": {},
   "source": [
    "### DATA 601 Project-1 (Fall 2021)\n",
    "Please download these the csv files <br>\n",
    "File-1: Maryland Statewide Vehicle Crashes:  <br>\n",
    "https://opendata.maryland.gov/Public-Safety/Maryland-Statewide-Vehicle-Crashes/65du-s3qu\n",
    "\n",
    "File-2: Person Details:  <br>\n",
    "https://opendata.maryland.gov/Public-Safety/Maryland-Statewide-Vehicle-Crashes-Person-Details-/py4c-dicf\n",
    "\n",
    "File-3: Vehicle Details:  <br>\n",
    "https://opendata.maryland.gov/Public-Safety/Maryland-Statewide-Vehicle-Crashes-Vehicle-Details/mhft-5t5y\n",
    "\n",
    "<br>\n",
    "\n",
    "We will only use \"Accident Year = 2020\" data. So, please remove all the unncessary rows. Names these files as \"crashes.csv\", \"persons.csv\", and \"vehicles.csv\", respetively. I will test your notebook with the files I created, so if you have a different naming, your code won't work."
   ]
  },
  {
   "cell_type": "markdown",
   "metadata": {},
   "source": [
    "### Q1\n",
    "From these three csv files, create a single dataframe which will include following columns only <br>\n",
    "- from the \"crashes.csv\", accident data (acc_dat), accident time (acc_time), weather description (weather_desc),report no, county (county_desc), latittude, and longitude\n",
    "- from the \"persons.csv\", gender, data of birth, and state code\n",
    "- from the \"vehicles.csv\", vehicle year, vehicle make, speed limit\n",
    "<br>\n",
    "\n",
    "Save your dataframe as a new csv file called \"md_crash_2020.csv\".\n",
    "\n",
    "Note: All these csv files have the 'REPORT_NO' column. You need to use that column to combine these datasets."
   ]
  },
  {
   "cell_type": "markdown",
   "metadata": {},
   "source": [
    "### Q2\n",
    "For each county <br>\n",
    "a. Determine the average age of the drivers who were involved in these accidents  <br>\n",
    "b. List the sorted averages (from youngest to oldest) <br>"
   ]
  },
  {
   "cell_type": "markdown",
   "metadata": {},
   "source": [
    "### Q3\n",
    "a. Determine the total number of crashes per \"vehicle make\". List the sorted values (e.g. Honda 1234)<br>\n",
    "b. Determine average age of the car involved in these accidents for each \"vehicle make\".  <br>"
   ]
  },
  {
   "cell_type": "markdown",
   "metadata": {},
   "source": [
    "### Q4\n",
    "a. Determine all the accidents that happened in a circle centered at (39.016149, -77.117942) with a radius of 5 km.  <br>\n",
    "b. Determine the number of accidents where the speed limit was above 51 miles per hour. <br>\n",
    "c. Determine the number of accidents where the speed limit was below 41 miles per hour.  <br>\n",
    "<br>\n",
    "Hint: https://www.w3resource.com/python-exercises/math/python-math-exercise-27.php"
   ]
  },
  {
   "cell_type": "markdown",
   "metadata": {},
   "source": [
    "### Q5\n",
    "Download \"Licensed Drivers By Sex And Ratio To Population\" data from  <br>\n",
    "https://www.fhwa.dot.gov/policyinformation/statistics/2015/xls/dl1c.xls\n",
    "\n",
    "\n",
    "a. Determine the number of drivers from non-DMV states as a function of gender and list them <br>\n",
    "St Male Female <br>\n",
    "NY 1510  622 <br>\n",
    "PA 1251 1312 <br>\n",
    "... <br>\n",
    "Note: DMV states: DC, MD, and VA  <br>\n",
    " <br>\n",
    "b. Normalize the previous list with number of male drivers and female drivers for each state. <br>\n",
    "\n"
   ]
  },
  {
   "cell_type": "markdown",
   "metadata": {},
   "source": [
    "### Q6\n",
    "a. On which day of the week (Monday through Sunday) do the most of the crashes happen? <br>\n",
    "b. On which hour of the day (00 - 24) do the most of the crashes happen?  <br>"
   ]
  },
  {
   "cell_type": "markdown",
   "metadata": {},
   "source": [
    "### Q7\n",
    "a. What is the ratio of the number of accidents happened in a rainy day to the number of accidents happened in a clear day? <br>\n",
    "b. What would be your comment if the number of rainy days in 2020 was equal to number of clear days?"
   ]
  },
  {
   "cell_type": "code",
   "execution_count": null,
   "metadata": {},
   "outputs": [],
   "source": []
  }
 ],
 "metadata": {
  "kernelspec": {
   "display_name": "Python 3",
   "language": "python",
   "name": "python3"
  },
  "language_info": {
   "codemirror_mode": {
    "name": "ipython",
    "version": 3
   },
   "file_extension": ".py",
   "mimetype": "text/x-python",
   "name": "python",
   "nbconvert_exporter": "python",
   "pygments_lexer": "ipython3",
   "version": "3.7.4"
  }
 },
 "nbformat": 4,
 "nbformat_minor": 4
}
