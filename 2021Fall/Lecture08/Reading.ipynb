{
 "cells": [
  {
   "cell_type": "markdown",
   "metadata": {},
   "source": [
    "### Reading suggestions\n",
    "\n",
    "Article: <br>\n",
    " - Can Graphics Tell Lies? A Tutorial on How To Visualize Your Data <br>\n",
    " https://ascpt.onlinelibrary.wiley.com/doi/10.1111/cts.12554\n",
    "\n",
    "Books: <br>\n",
    " - Weapons of Math Destruction: How Big Data Increases Inequality and Threatens Democracy <br>\n",
    " https://www.amazon.com/Weapons-Math-Destruction-Increases-Inequality/dp/0553418831\n",
    " - 7 Habits of Highly Effective People <br>\n",
    " https://www.amazon.com/Habits-Highly-Effective-People-Powerful/dp/0743269519\n",
    " - Never Split the Difference: Negotiating as if Your Life Depended on It <br>\n",
    " https://www.amazon.com/Never-Split-Difference-audiobook/dp/B01COR1GM2/\n",
    " - How Would You Move the Mount Fuji <br>\n",
    " https://www.amazon.com/How-Would-Move-Mount-Fuji/dp/0316778494"
   ]
  },
  {
   "cell_type": "markdown",
   "metadata": {},
   "source": [
    "Book and Online Course Suggestion\n",
    "  - Statistical Learning book: <br>\n",
    "  https://www.statlearning.com/\n",
    "  - Lectures <br>\n",
    "  https://www.edx.org/course/statistical-learning"
   ]
  },
  {
   "cell_type": "code",
   "execution_count": null,
   "metadata": {},
   "outputs": [],
   "source": []
  },
  {
   "cell_type": "code",
   "execution_count": null,
   "metadata": {},
   "outputs": [],
   "source": []
  }
 ],
 "metadata": {
  "kernelspec": {
   "display_name": "Python 3",
   "language": "python",
   "name": "python3"
  },
  "language_info": {
   "codemirror_mode": {
    "name": "ipython",
    "version": 3
   },
   "file_extension": ".py",
   "mimetype": "text/x-python",
   "name": "python",
   "nbconvert_exporter": "python",
   "pygments_lexer": "ipython3",
   "version": "3.7.4"
  }
 },
 "nbformat": 4,
 "nbformat_minor": 4
}
