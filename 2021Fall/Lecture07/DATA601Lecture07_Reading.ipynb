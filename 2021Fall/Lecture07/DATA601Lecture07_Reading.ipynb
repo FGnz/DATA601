{
  "nbformat": 4,
  "nbformat_minor": 0,
  "metadata": {
    "colab": {
      "name": "W7-RelationalData-Reading.ipynb",
      "provenance": [],
      "collapsed_sections": []
    },
    "kernelspec": {
      "name": "python3",
      "display_name": "Python 3"
    },
    "language_info": {
      "name": "python"
    }
  },
  "cells": [
    {
      "cell_type": "markdown",
      "metadata": {
        "id": "V0CR6CWeXtgo"
      },
      "source": [
        "[Pandas Concat and Append](https://jakevdp.github.io/PythonDataScienceHandbook/03.06-concat-and-append.html)\n",
        "\n",
        "[Pandas - Merge and Join](https://jakevdp.github.io/PythonDataScienceHandbook/03.07-merge-and-join.html)\n",
        "\n",
        "Notes from the readings:\n",
        "\n",
        "- What is relational algebra?\n",
        "\n",
        "- Understand the use of `on`, `left_on`, `right_on` keywords\n",
        "\n",
        "- Understand the use of `how` keyword.\n",
        "\n",
        "[Relational Data](https://www.datasciencecourse.org/notes/relational_data/)\n",
        "\n",
        "- Understand primary key and foreign key concept\n",
        "\n",
        "- What are different types of relations between tables? (i.e. one-to-one, etc.)\n",
        "\n",
        "- Libraries to use relational data in python\n",
        "\n",
        "- Difference between sqllite and pandas.\n",
        "\n",
        "- What are the advantages and disadvantages of sqllite?\n",
        "\n",
        "- Understand the difference between different types of joins.\n",
        "\n",
        "\n",
        "[Four Reasons to learn SQL](https://learnsql.com/blog/four-reasons-aspiring-data-scientists-must-learn-sql/)\n",
        "\n"
      ]
    }
  ]
}