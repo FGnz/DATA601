{
  "nbformat": 4,
  "nbformat_minor": 0,
  "metadata": {
    "anaconda-cloud": {},
    "kernelspec": {
      "display_name": "Python 3",
      "language": "python",
      "name": "python3"
    },
    "language_info": {
      "codemirror_mode": {
        "name": "ipython",
        "version": 3
      },
      "file_extension": ".py",
      "mimetype": "text/x-python",
      "name": "python",
      "nbconvert_exporter": "python",
      "pygments_lexer": "ipython3",
      "version": "3.6.1"
    },
    "colab": {
      "name": "Pandas_Lab.ipynb",
      "provenance": [],
      "collapsed_sections": [],
      "include_colab_link": true
    }
  },
  "cells": [
    {
      "cell_type": "markdown",
      "metadata": {
        "id": "view-in-github",
        "colab_type": "text"
      },
      "source": [
        "<a href=\"https://colab.research.google.com/github/simsekergun/DATA601/blob/main/Lecture03/Pandas_Lab.ipynb\" target=\"_parent\"><img src=\"https://colab.research.google.com/assets/colab-badge.svg\" alt=\"Open In Colab\"/></a>"
      ]
    },
    {
      "cell_type": "markdown",
      "metadata": {
        "id": "isd7VizYQLdk"
      },
      "source": [
        "## Part 1: Loading and Cleaning with Pandas \n",
        "Read in the `goodreads.csv` file, examine the data, and do any necessary data cleaning. \n",
        "\n",
        "Here is a description of the columns (in order) present in this csv file:\n",
        "\n",
        "```\n",
        "rating: the average rating on a 1-5 scale achieved by the book\n",
        "review_count: the number of Goodreads users who reviewed this book\n",
        "isbn: the ISBN code for the book\n",
        "booktype: an internal Goodreads identifier for the book\n",
        "author_url: the Goodreads (relative) URL for the author of the book\n",
        "year: the year the book was published\n",
        "genre_urls: a string with '|' separated relative URLS of Goodreads genre pages\n",
        "dir: a directory identifier internal to the scraping code\n",
        "rating_count: the number of ratings for this book (this is different from the number of reviews)\n",
        "name: the name of the book\n",
        "```\n",
        "\n",
        "Let us see what issues we find with the data and resolve them.  \n",
        "\n",
        "\n",
        "\n",
        "----"
      ]
    },
    {
      "cell_type": "markdown",
      "metadata": {
        "id": "dwVL0Wu9QLdl"
      },
      "source": [
        "\n",
        "\n",
        "\n",
        "After loading appropriate libraries\n"
      ]
    },
    {
      "cell_type": "code",
      "metadata": {
        "id": "C4NnOs9HQLdl"
      },
      "source": [
        "%matplotlib inline\n",
        "import numpy as np\n",
        "import matplotlib.pyplot as plt\n",
        "import pandas as pd\n",
        "import seaborn as sns\n",
        "pd.set_option('display.width', 500)\n",
        "pd.set_option('display.max_columns', 100)"
      ],
      "execution_count": 1,
      "outputs": []
    },
    {
      "cell_type": "markdown",
      "metadata": {
        "id": "YPHqB0s0QLdm"
      },
      "source": [
        "### Cleaning: Reading in the data\n",
        "We read in and clean the data from `goodreads.csv`."
      ]
    },
    {
      "cell_type": "code",
      "metadata": {
        "colab": {
          "base_uri": "https://localhost:8080/",
          "height": 406
        },
        "id": "Lm-vSN0jQLdm",
        "outputId": "41d9f7c1-75d2-44fb-a326-b6db868b1c7f"
      },
      "source": [
        "#Read the data into a dataframe\n",
        "df = pd.read_csv(\"https://raw.githubusercontent.com/simsekergun/DATA601/main/Datasets/goodreads.csv\")\n",
        "\n",
        "#Examine the first few rows of the dataframe\n",
        "df.head()"
      ],
      "execution_count": 2,
      "outputs": [
        {
          "output_type": "execute_result",
          "data": {
            "text/html": [
              "\n",
              "  <div id=\"df-857c6c39-23cd-4e13-a423-78590ee1dada\">\n",
              "    <div class=\"colab-df-container\">\n",
              "      <div>\n",
              "<style scoped>\n",
              "    .dataframe tbody tr th:only-of-type {\n",
              "        vertical-align: middle;\n",
              "    }\n",
              "\n",
              "    .dataframe tbody tr th {\n",
              "        vertical-align: top;\n",
              "    }\n",
              "\n",
              "    .dataframe thead th {\n",
              "        text-align: right;\n",
              "    }\n",
              "</style>\n",
              "<table border=\"1\" class=\"dataframe\">\n",
              "  <thead>\n",
              "    <tr style=\"text-align: right;\">\n",
              "      <th></th>\n",
              "      <th>4.40</th>\n",
              "      <th>136455</th>\n",
              "      <th>0439023483</th>\n",
              "      <th>good_reads:book</th>\n",
              "      <th>https://www.goodreads.com/author/show/153394.Suzanne_Collins</th>\n",
              "      <th>2008</th>\n",
              "      <th>/genres/young-adult|/genres/science-fiction|/genres/dystopia|/genres/fantasy|/genres/science-fiction|/genres/romance|/genres/adventure|/genres/book-club|/genres/young-adult|/genres/teen|/genres/apocalyptic|/genres/post-apocalyptic|/genres/action</th>\n",
              "      <th>dir01/2767052-the-hunger-games.html</th>\n",
              "      <th>2958974</th>\n",
              "      <th>The Hunger Games (The Hunger Games, #1)</th>\n",
              "    </tr>\n",
              "  </thead>\n",
              "  <tbody>\n",
              "    <tr>\n",
              "      <th>0</th>\n",
              "      <td>4.41</td>\n",
              "      <td>16648</td>\n",
              "      <td>0439358078</td>\n",
              "      <td>good_reads:book</td>\n",
              "      <td>https://www.goodreads.com/author/show/1077326....</td>\n",
              "      <td>2003.0</td>\n",
              "      <td>/genres/fantasy|/genres/young-adult|/genres/fi...</td>\n",
              "      <td>dir01/2.Harry_Potter_and_the_Order_of_the_Phoe...</td>\n",
              "      <td>1284478</td>\n",
              "      <td>Harry Potter and the Order of the Phoenix (Har...</td>\n",
              "    </tr>\n",
              "    <tr>\n",
              "      <th>1</th>\n",
              "      <td>3.56</td>\n",
              "      <td>85746</td>\n",
              "      <td>0316015849</td>\n",
              "      <td>good_reads:book</td>\n",
              "      <td>https://www.goodreads.com/author/show/941441.S...</td>\n",
              "      <td>2005.0</td>\n",
              "      <td>/genres/young-adult|/genres/fantasy|/genres/ro...</td>\n",
              "      <td>dir01/41865.Twilight.html</td>\n",
              "      <td>2579564</td>\n",
              "      <td>Twilight (Twilight, #1)</td>\n",
              "    </tr>\n",
              "    <tr>\n",
              "      <th>2</th>\n",
              "      <td>4.23</td>\n",
              "      <td>47906</td>\n",
              "      <td>0061120081</td>\n",
              "      <td>good_reads:book</td>\n",
              "      <td>https://www.goodreads.com/author/show/1825.Har...</td>\n",
              "      <td>1960.0</td>\n",
              "      <td>/genres/classics|/genres/fiction|/genres/histo...</td>\n",
              "      <td>dir01/2657.To_Kill_a_Mockingbird.html</td>\n",
              "      <td>2078123</td>\n",
              "      <td>To Kill a Mockingbird</td>\n",
              "    </tr>\n",
              "    <tr>\n",
              "      <th>3</th>\n",
              "      <td>4.23</td>\n",
              "      <td>34772</td>\n",
              "      <td>0679783261</td>\n",
              "      <td>good_reads:book</td>\n",
              "      <td>https://www.goodreads.com/author/show/1265.Jan...</td>\n",
              "      <td>1813.0</td>\n",
              "      <td>/genres/classics|/genres/fiction|/genres/roman...</td>\n",
              "      <td>dir01/1885.Pride_and_Prejudice.html</td>\n",
              "      <td>1388992</td>\n",
              "      <td>Pride and Prejudice</td>\n",
              "    </tr>\n",
              "    <tr>\n",
              "      <th>4</th>\n",
              "      <td>4.25</td>\n",
              "      <td>12363</td>\n",
              "      <td>0446675539</td>\n",
              "      <td>good_reads:book</td>\n",
              "      <td>https://www.goodreads.com/author/show/11081.Ma...</td>\n",
              "      <td>1936.0</td>\n",
              "      <td>/genres/classics|/genres/historical-fiction|/g...</td>\n",
              "      <td>dir01/18405.Gone_with_the_Wind.html</td>\n",
              "      <td>645470</td>\n",
              "      <td>Gone with the Wind</td>\n",
              "    </tr>\n",
              "  </tbody>\n",
              "</table>\n",
              "</div>\n",
              "      <button class=\"colab-df-convert\" onclick=\"convertToInteractive('df-857c6c39-23cd-4e13-a423-78590ee1dada')\"\n",
              "              title=\"Convert this dataframe to an interactive table.\"\n",
              "              style=\"display:none;\">\n",
              "        \n",
              "  <svg xmlns=\"http://www.w3.org/2000/svg\" height=\"24px\"viewBox=\"0 0 24 24\"\n",
              "       width=\"24px\">\n",
              "    <path d=\"M0 0h24v24H0V0z\" fill=\"none\"/>\n",
              "    <path d=\"M18.56 5.44l.94 2.06.94-2.06 2.06-.94-2.06-.94-.94-2.06-.94 2.06-2.06.94zm-11 1L8.5 8.5l.94-2.06 2.06-.94-2.06-.94L8.5 2.5l-.94 2.06-2.06.94zm10 10l.94 2.06.94-2.06 2.06-.94-2.06-.94-.94-2.06-.94 2.06-2.06.94z\"/><path d=\"M17.41 7.96l-1.37-1.37c-.4-.4-.92-.59-1.43-.59-.52 0-1.04.2-1.43.59L10.3 9.45l-7.72 7.72c-.78.78-.78 2.05 0 2.83L4 21.41c.39.39.9.59 1.41.59.51 0 1.02-.2 1.41-.59l7.78-7.78 2.81-2.81c.8-.78.8-2.07 0-2.86zM5.41 20L4 18.59l7.72-7.72 1.47 1.35L5.41 20z\"/>\n",
              "  </svg>\n",
              "      </button>\n",
              "      \n",
              "  <style>\n",
              "    .colab-df-container {\n",
              "      display:flex;\n",
              "      flex-wrap:wrap;\n",
              "      gap: 12px;\n",
              "    }\n",
              "\n",
              "    .colab-df-convert {\n",
              "      background-color: #E8F0FE;\n",
              "      border: none;\n",
              "      border-radius: 50%;\n",
              "      cursor: pointer;\n",
              "      display: none;\n",
              "      fill: #1967D2;\n",
              "      height: 32px;\n",
              "      padding: 0 0 0 0;\n",
              "      width: 32px;\n",
              "    }\n",
              "\n",
              "    .colab-df-convert:hover {\n",
              "      background-color: #E2EBFA;\n",
              "      box-shadow: 0px 1px 2px rgba(60, 64, 67, 0.3), 0px 1px 3px 1px rgba(60, 64, 67, 0.15);\n",
              "      fill: #174EA6;\n",
              "    }\n",
              "\n",
              "    [theme=dark] .colab-df-convert {\n",
              "      background-color: #3B4455;\n",
              "      fill: #D2E3FC;\n",
              "    }\n",
              "\n",
              "    [theme=dark] .colab-df-convert:hover {\n",
              "      background-color: #434B5C;\n",
              "      box-shadow: 0px 1px 3px 1px rgba(0, 0, 0, 0.15);\n",
              "      filter: drop-shadow(0px 1px 2px rgba(0, 0, 0, 0.3));\n",
              "      fill: #FFFFFF;\n",
              "    }\n",
              "  </style>\n",
              "\n",
              "      <script>\n",
              "        const buttonEl =\n",
              "          document.querySelector('#df-857c6c39-23cd-4e13-a423-78590ee1dada button.colab-df-convert');\n",
              "        buttonEl.style.display =\n",
              "          google.colab.kernel.accessAllowed ? 'block' : 'none';\n",
              "\n",
              "        async function convertToInteractive(key) {\n",
              "          const element = document.querySelector('#df-857c6c39-23cd-4e13-a423-78590ee1dada');\n",
              "          const dataTable =\n",
              "            await google.colab.kernel.invokeFunction('convertToInteractive',\n",
              "                                                     [key], {});\n",
              "          if (!dataTable) return;\n",
              "\n",
              "          const docLinkHtml = 'Like what you see? Visit the ' +\n",
              "            '<a target=\"_blank\" href=https://colab.research.google.com/notebooks/data_table.ipynb>data table notebook</a>'\n",
              "            + ' to learn more about interactive tables.';\n",
              "          element.innerHTML = '';\n",
              "          dataTable['output_type'] = 'display_data';\n",
              "          await google.colab.output.renderOutput(dataTable, element);\n",
              "          const docLink = document.createElement('div');\n",
              "          docLink.innerHTML = docLinkHtml;\n",
              "          element.appendChild(docLink);\n",
              "        }\n",
              "      </script>\n",
              "    </div>\n",
              "  </div>\n",
              "  "
            ],
            "text/plain": [
              "   4.40 136455  0439023483  good_reads:book https://www.goodreads.com/author/show/153394.Suzanne_Collins    2008 /genres/young-adult|/genres/science-fiction|/genres/dystopia|/genres/fantasy|/genres/science-fiction|/genres/romance|/genres/adventure|/genres/book-club|/genres/young-adult|/genres/teen|/genres/apocalyptic|/genres/post-apocalyptic|/genres/action                dir01/2767052-the-hunger-games.html  2958974            The Hunger Games (The Hunger Games, #1)\n",
              "0  4.41  16648  0439358078  good_reads:book  https://www.goodreads.com/author/show/1077326....            2003.0  /genres/fantasy|/genres/young-adult|/genres/fi...                                                                                                                                                                                                     dir01/2.Harry_Potter_and_the_Order_of_the_Phoe...  1284478  Harry Potter and the Order of the Phoenix (Har...\n",
              "1  3.56  85746  0316015849  good_reads:book  https://www.goodreads.com/author/show/941441.S...            2005.0  /genres/young-adult|/genres/fantasy|/genres/ro...                                                                                                                                                                                                                             dir01/41865.Twilight.html  2579564                            Twilight (Twilight, #1)\n",
              "2  4.23  47906  0061120081  good_reads:book  https://www.goodreads.com/author/show/1825.Har...            1960.0  /genres/classics|/genres/fiction|/genres/histo...                                                                                                                                                                                                                 dir01/2657.To_Kill_a_Mockingbird.html  2078123                              To Kill a Mockingbird\n",
              "3  4.23  34772  0679783261  good_reads:book  https://www.goodreads.com/author/show/1265.Jan...            1813.0  /genres/classics|/genres/fiction|/genres/roman...                                                                                                                                                                                                                   dir01/1885.Pride_and_Prejudice.html  1388992                                Pride and Prejudice\n",
              "4  4.25  12363  0446675539  good_reads:book  https://www.goodreads.com/author/show/11081.Ma...            1936.0  /genres/classics|/genres/historical-fiction|/g...                                                                                                                                                                                                                   dir01/18405.Gone_with_the_Wind.html   645470                                 Gone with the Wind"
            ]
          },
          "metadata": {},
          "execution_count": 2
        }
      ]
    },
    {
      "cell_type": "markdown",
      "metadata": {
        "id": "lh9JSffeQLdm"
      },
      "source": [
        "Oh dear. That does not quite seem to be right. We are missing the column names. We need to add these in! But what are they?\n",
        "\n",
        "Here is a list of them in order:\n",
        "\n",
        "`[\"rating\", 'review_count', 'isbn', 'booktype','author_url', 'year', 'genre_urls', 'dir','rating_count', 'name']`\n",
        "\n",
        "<div class=\"exercise\"><b>Exercise</b></div>\n",
        "Use these to load the dataframe properly! And then \"head\" the dataframe... (you will need to look at the read_csv docs)\n"
      ]
    },
    {
      "cell_type": "code",
      "metadata": {
        "colab": {
          "base_uri": "https://localhost:8080/",
          "height": 206
        },
        "id": "Fv7FuNLTQLdn",
        "outputId": "fbd31a66-deae-4e91-bcec-c7b18ac1adfa"
      },
      "source": [
        "# your code here\n",
        "df=pd.read_csv(\"https://raw.githubusercontent.com/simsekergun/DATA601/main/Datasets/goodreads.csv\", header=None,\n",
        "               names=[\"rating\", 'review_count', 'isbn', 'booktype','author_url', 'year', 'genre_urls', 'dir','rating_count', 'name'],\n",
        ")\n",
        "\n",
        "#Examine the first few rows of the dataframe\n",
        "df.head()"
      ],
      "execution_count": 3,
      "outputs": [
        {
          "output_type": "execute_result",
          "data": {
            "text/html": [
              "\n",
              "  <div id=\"df-c5d59faa-7abf-479c-8f05-ace8aa38db39\">\n",
              "    <div class=\"colab-df-container\">\n",
              "      <div>\n",
              "<style scoped>\n",
              "    .dataframe tbody tr th:only-of-type {\n",
              "        vertical-align: middle;\n",
              "    }\n",
              "\n",
              "    .dataframe tbody tr th {\n",
              "        vertical-align: top;\n",
              "    }\n",
              "\n",
              "    .dataframe thead th {\n",
              "        text-align: right;\n",
              "    }\n",
              "</style>\n",
              "<table border=\"1\" class=\"dataframe\">\n",
              "  <thead>\n",
              "    <tr style=\"text-align: right;\">\n",
              "      <th></th>\n",
              "      <th>rating</th>\n",
              "      <th>review_count</th>\n",
              "      <th>isbn</th>\n",
              "      <th>booktype</th>\n",
              "      <th>author_url</th>\n",
              "      <th>year</th>\n",
              "      <th>genre_urls</th>\n",
              "      <th>dir</th>\n",
              "      <th>rating_count</th>\n",
              "      <th>name</th>\n",
              "    </tr>\n",
              "  </thead>\n",
              "  <tbody>\n",
              "    <tr>\n",
              "      <th>0</th>\n",
              "      <td>4.40</td>\n",
              "      <td>136455</td>\n",
              "      <td>0439023483</td>\n",
              "      <td>good_reads:book</td>\n",
              "      <td>https://www.goodreads.com/author/show/153394.S...</td>\n",
              "      <td>2008.0</td>\n",
              "      <td>/genres/young-adult|/genres/science-fiction|/g...</td>\n",
              "      <td>dir01/2767052-the-hunger-games.html</td>\n",
              "      <td>2958974</td>\n",
              "      <td>The Hunger Games (The Hunger Games, #1)</td>\n",
              "    </tr>\n",
              "    <tr>\n",
              "      <th>1</th>\n",
              "      <td>4.41</td>\n",
              "      <td>16648</td>\n",
              "      <td>0439358078</td>\n",
              "      <td>good_reads:book</td>\n",
              "      <td>https://www.goodreads.com/author/show/1077326....</td>\n",
              "      <td>2003.0</td>\n",
              "      <td>/genres/fantasy|/genres/young-adult|/genres/fi...</td>\n",
              "      <td>dir01/2.Harry_Potter_and_the_Order_of_the_Phoe...</td>\n",
              "      <td>1284478</td>\n",
              "      <td>Harry Potter and the Order of the Phoenix (Har...</td>\n",
              "    </tr>\n",
              "    <tr>\n",
              "      <th>2</th>\n",
              "      <td>3.56</td>\n",
              "      <td>85746</td>\n",
              "      <td>0316015849</td>\n",
              "      <td>good_reads:book</td>\n",
              "      <td>https://www.goodreads.com/author/show/941441.S...</td>\n",
              "      <td>2005.0</td>\n",
              "      <td>/genres/young-adult|/genres/fantasy|/genres/ro...</td>\n",
              "      <td>dir01/41865.Twilight.html</td>\n",
              "      <td>2579564</td>\n",
              "      <td>Twilight (Twilight, #1)</td>\n",
              "    </tr>\n",
              "    <tr>\n",
              "      <th>3</th>\n",
              "      <td>4.23</td>\n",
              "      <td>47906</td>\n",
              "      <td>0061120081</td>\n",
              "      <td>good_reads:book</td>\n",
              "      <td>https://www.goodreads.com/author/show/1825.Har...</td>\n",
              "      <td>1960.0</td>\n",
              "      <td>/genres/classics|/genres/fiction|/genres/histo...</td>\n",
              "      <td>dir01/2657.To_Kill_a_Mockingbird.html</td>\n",
              "      <td>2078123</td>\n",
              "      <td>To Kill a Mockingbird</td>\n",
              "    </tr>\n",
              "    <tr>\n",
              "      <th>4</th>\n",
              "      <td>4.23</td>\n",
              "      <td>34772</td>\n",
              "      <td>0679783261</td>\n",
              "      <td>good_reads:book</td>\n",
              "      <td>https://www.goodreads.com/author/show/1265.Jan...</td>\n",
              "      <td>1813.0</td>\n",
              "      <td>/genres/classics|/genres/fiction|/genres/roman...</td>\n",
              "      <td>dir01/1885.Pride_and_Prejudice.html</td>\n",
              "      <td>1388992</td>\n",
              "      <td>Pride and Prejudice</td>\n",
              "    </tr>\n",
              "  </tbody>\n",
              "</table>\n",
              "</div>\n",
              "      <button class=\"colab-df-convert\" onclick=\"convertToInteractive('df-c5d59faa-7abf-479c-8f05-ace8aa38db39')\"\n",
              "              title=\"Convert this dataframe to an interactive table.\"\n",
              "              style=\"display:none;\">\n",
              "        \n",
              "  <svg xmlns=\"http://www.w3.org/2000/svg\" height=\"24px\"viewBox=\"0 0 24 24\"\n",
              "       width=\"24px\">\n",
              "    <path d=\"M0 0h24v24H0V0z\" fill=\"none\"/>\n",
              "    <path d=\"M18.56 5.44l.94 2.06.94-2.06 2.06-.94-2.06-.94-.94-2.06-.94 2.06-2.06.94zm-11 1L8.5 8.5l.94-2.06 2.06-.94-2.06-.94L8.5 2.5l-.94 2.06-2.06.94zm10 10l.94 2.06.94-2.06 2.06-.94-2.06-.94-.94-2.06-.94 2.06-2.06.94z\"/><path d=\"M17.41 7.96l-1.37-1.37c-.4-.4-.92-.59-1.43-.59-.52 0-1.04.2-1.43.59L10.3 9.45l-7.72 7.72c-.78.78-.78 2.05 0 2.83L4 21.41c.39.39.9.59 1.41.59.51 0 1.02-.2 1.41-.59l7.78-7.78 2.81-2.81c.8-.78.8-2.07 0-2.86zM5.41 20L4 18.59l7.72-7.72 1.47 1.35L5.41 20z\"/>\n",
              "  </svg>\n",
              "      </button>\n",
              "      \n",
              "  <style>\n",
              "    .colab-df-container {\n",
              "      display:flex;\n",
              "      flex-wrap:wrap;\n",
              "      gap: 12px;\n",
              "    }\n",
              "\n",
              "    .colab-df-convert {\n",
              "      background-color: #E8F0FE;\n",
              "      border: none;\n",
              "      border-radius: 50%;\n",
              "      cursor: pointer;\n",
              "      display: none;\n",
              "      fill: #1967D2;\n",
              "      height: 32px;\n",
              "      padding: 0 0 0 0;\n",
              "      width: 32px;\n",
              "    }\n",
              "\n",
              "    .colab-df-convert:hover {\n",
              "      background-color: #E2EBFA;\n",
              "      box-shadow: 0px 1px 2px rgba(60, 64, 67, 0.3), 0px 1px 3px 1px rgba(60, 64, 67, 0.15);\n",
              "      fill: #174EA6;\n",
              "    }\n",
              "\n",
              "    [theme=dark] .colab-df-convert {\n",
              "      background-color: #3B4455;\n",
              "      fill: #D2E3FC;\n",
              "    }\n",
              "\n",
              "    [theme=dark] .colab-df-convert:hover {\n",
              "      background-color: #434B5C;\n",
              "      box-shadow: 0px 1px 3px 1px rgba(0, 0, 0, 0.15);\n",
              "      filter: drop-shadow(0px 1px 2px rgba(0, 0, 0, 0.3));\n",
              "      fill: #FFFFFF;\n",
              "    }\n",
              "  </style>\n",
              "\n",
              "      <script>\n",
              "        const buttonEl =\n",
              "          document.querySelector('#df-c5d59faa-7abf-479c-8f05-ace8aa38db39 button.colab-df-convert');\n",
              "        buttonEl.style.display =\n",
              "          google.colab.kernel.accessAllowed ? 'block' : 'none';\n",
              "\n",
              "        async function convertToInteractive(key) {\n",
              "          const element = document.querySelector('#df-c5d59faa-7abf-479c-8f05-ace8aa38db39');\n",
              "          const dataTable =\n",
              "            await google.colab.kernel.invokeFunction('convertToInteractive',\n",
              "                                                     [key], {});\n",
              "          if (!dataTable) return;\n",
              "\n",
              "          const docLinkHtml = 'Like what you see? Visit the ' +\n",
              "            '<a target=\"_blank\" href=https://colab.research.google.com/notebooks/data_table.ipynb>data table notebook</a>'\n",
              "            + ' to learn more about interactive tables.';\n",
              "          element.innerHTML = '';\n",
              "          dataTable['output_type'] = 'display_data';\n",
              "          await google.colab.output.renderOutput(dataTable, element);\n",
              "          const docLink = document.createElement('div');\n",
              "          docLink.innerHTML = docLinkHtml;\n",
              "          element.appendChild(docLink);\n",
              "        }\n",
              "      </script>\n",
              "    </div>\n",
              "  </div>\n",
              "  "
            ],
            "text/plain": [
              "   rating review_count        isbn         booktype                                         author_url    year                                         genre_urls                                                dir rating_count                                               name\n",
              "0    4.40       136455  0439023483  good_reads:book  https://www.goodreads.com/author/show/153394.S...  2008.0  /genres/young-adult|/genres/science-fiction|/g...                dir01/2767052-the-hunger-games.html      2958974            The Hunger Games (The Hunger Games, #1)\n",
              "1    4.41        16648  0439358078  good_reads:book  https://www.goodreads.com/author/show/1077326....  2003.0  /genres/fantasy|/genres/young-adult|/genres/fi...  dir01/2.Harry_Potter_and_the_Order_of_the_Phoe...      1284478  Harry Potter and the Order of the Phoenix (Har...\n",
              "2    3.56        85746  0316015849  good_reads:book  https://www.goodreads.com/author/show/941441.S...  2005.0  /genres/young-adult|/genres/fantasy|/genres/ro...                          dir01/41865.Twilight.html      2579564                            Twilight (Twilight, #1)\n",
              "3    4.23        47906  0061120081  good_reads:book  https://www.goodreads.com/author/show/1825.Har...  1960.0  /genres/classics|/genres/fiction|/genres/histo...              dir01/2657.To_Kill_a_Mockingbird.html      2078123                              To Kill a Mockingbird\n",
              "4    4.23        34772  0679783261  good_reads:book  https://www.goodreads.com/author/show/1265.Jan...  1813.0  /genres/classics|/genres/fiction|/genres/roman...                dir01/1885.Pride_and_Prejudice.html      1388992                                Pride and Prejudice"
            ]
          },
          "metadata": {},
          "execution_count": 3
        }
      ]
    },
    {
      "cell_type": "markdown",
      "metadata": {
        "id": "796eows3QLdn"
      },
      "source": [
        "### Cleaning: Examing the dataframe - quick checks\n",
        "\n",
        "We should examine the dataframe to get a overall sense of the content. \n",
        "\n",
        "<div class=\"exercise\"><b>Exercise</b></div>\n",
        "Lets check the types of the columns. What do you find?"
      ]
    },
    {
      "cell_type": "code",
      "metadata": {
        "colab": {
          "base_uri": "https://localhost:8080/"
        },
        "id": "khprxojYQLdn",
        "outputId": "df318781-8857-4842-a32d-32e4f99d4b0a"
      },
      "source": [
        "# your code here\n",
        "####### \n",
        "df.dtypes\n",
        "####### \n"
      ],
      "execution_count": 4,
      "outputs": [
        {
          "output_type": "execute_result",
          "data": {
            "text/plain": [
              "rating          float64\n",
              "review_count     object\n",
              "isbn             object\n",
              "booktype         object\n",
              "author_url       object\n",
              "year            float64\n",
              "genre_urls       object\n",
              "dir              object\n",
              "rating_count     object\n",
              "name             object\n",
              "dtype: object"
            ]
          },
          "metadata": {},
          "execution_count": 4
        }
      ]
    },
    {
      "cell_type": "markdown",
      "metadata": {
        "id": "qtxJ-dmBQLdo"
      },
      "source": [
        "*your answer here*\n",
        "\n",
        "Notice that `review_count` and `rating_counts` are objects instead of ints, and the `year` is a float!"
      ]
    },
    {
      "cell_type": "markdown",
      "metadata": {
        "id": "DbhPDbkMQLdo"
      },
      "source": [
        "There are a couple more quick sanity checks to perform on the dataframe. "
      ]
    },
    {
      "cell_type": "code",
      "metadata": {
        "colab": {
          "base_uri": "https://localhost:8080/"
        },
        "id": "JSKtmUz5QLdo",
        "outputId": "5161db55-12c8-4140-e875-122f9f791c24"
      },
      "source": [
        "\n",
        "print(df.shape)\n",
        "df.columns"
      ],
      "execution_count": 5,
      "outputs": [
        {
          "output_type": "stream",
          "name": "stdout",
          "text": [
            "(6000, 10)\n"
          ]
        },
        {
          "output_type": "execute_result",
          "data": {
            "text/plain": [
              "Index(['rating', 'review_count', 'isbn', 'booktype', 'author_url', 'year', 'genre_urls', 'dir', 'rating_count', 'name'], dtype='object')"
            ]
          },
          "metadata": {},
          "execution_count": 5
        }
      ]
    },
    {
      "cell_type": "markdown",
      "metadata": {
        "id": "M6NYenhaQLdo"
      },
      "source": [
        "### Cleaning: Examining the dataframe - a deeper look"
      ]
    },
    {
      "cell_type": "markdown",
      "metadata": {
        "id": "HMCSBV1IQLdo"
      },
      "source": [
        "Beyond performing checking some quick general properties of the data frame and looking at the first $n$ rows, we can dig a bit deeper into the values being stored. If you haven't already, check to see if there are any missing values in the data frame.\n",
        "\n",
        "Let's see for a column which seemed OK to us."
      ]
    },
    {
      "cell_type": "code",
      "metadata": {
        "colab": {
          "base_uri": "https://localhost:8080/"
        },
        "id": "KdhtL0q7QLdp",
        "outputId": "35bb97f3-e8a3-4506-f9ab-99e975adcbbc"
      },
      "source": [
        "#Get a sense of how many missing values there are in the dataframe.\n",
        "np.sum([df.rating.isnull()])"
      ],
      "execution_count": 6,
      "outputs": [
        {
          "output_type": "execute_result",
          "data": {
            "text/plain": [
              "2"
            ]
          },
          "metadata": {},
          "execution_count": 6
        }
      ]
    },
    {
      "cell_type": "code",
      "metadata": {
        "colab": {
          "base_uri": "https://localhost:8080/",
          "height": 112
        },
        "id": "3G-gBlOBQLdp",
        "outputId": "bb7f2841-71bb-4d71-f231-d0d8daa0f92f"
      },
      "source": [
        "#Try to locate where the missing values occur\n",
        "df[df.rating.isnull()]"
      ],
      "execution_count": 7,
      "outputs": [
        {
          "output_type": "execute_result",
          "data": {
            "text/html": [
              "\n",
              "  <div id=\"df-a09542ed-11fc-4026-a83f-424950a86ef9\">\n",
              "    <div class=\"colab-df-container\">\n",
              "      <div>\n",
              "<style scoped>\n",
              "    .dataframe tbody tr th:only-of-type {\n",
              "        vertical-align: middle;\n",
              "    }\n",
              "\n",
              "    .dataframe tbody tr th {\n",
              "        vertical-align: top;\n",
              "    }\n",
              "\n",
              "    .dataframe thead th {\n",
              "        text-align: right;\n",
              "    }\n",
              "</style>\n",
              "<table border=\"1\" class=\"dataframe\">\n",
              "  <thead>\n",
              "    <tr style=\"text-align: right;\">\n",
              "      <th></th>\n",
              "      <th>rating</th>\n",
              "      <th>review_count</th>\n",
              "      <th>isbn</th>\n",
              "      <th>booktype</th>\n",
              "      <th>author_url</th>\n",
              "      <th>year</th>\n",
              "      <th>genre_urls</th>\n",
              "      <th>dir</th>\n",
              "      <th>rating_count</th>\n",
              "      <th>name</th>\n",
              "    </tr>\n",
              "  </thead>\n",
              "  <tbody>\n",
              "    <tr>\n",
              "      <th>3643</th>\n",
              "      <td>NaN</td>\n",
              "      <td>None</td>\n",
              "      <td>None</td>\n",
              "      <td>None</td>\n",
              "      <td>None</td>\n",
              "      <td>NaN</td>\n",
              "      <td>NaN</td>\n",
              "      <td>dir37/9658936-harry-potter.html</td>\n",
              "      <td>None</td>\n",
              "      <td>None</td>\n",
              "    </tr>\n",
              "    <tr>\n",
              "      <th>5282</th>\n",
              "      <td>NaN</td>\n",
              "      <td>None</td>\n",
              "      <td>None</td>\n",
              "      <td>None</td>\n",
              "      <td>None</td>\n",
              "      <td>NaN</td>\n",
              "      <td>NaN</td>\n",
              "      <td>dir53/113138.The_Winner.html</td>\n",
              "      <td>None</td>\n",
              "      <td>None</td>\n",
              "    </tr>\n",
              "  </tbody>\n",
              "</table>\n",
              "</div>\n",
              "      <button class=\"colab-df-convert\" onclick=\"convertToInteractive('df-a09542ed-11fc-4026-a83f-424950a86ef9')\"\n",
              "              title=\"Convert this dataframe to an interactive table.\"\n",
              "              style=\"display:none;\">\n",
              "        \n",
              "  <svg xmlns=\"http://www.w3.org/2000/svg\" height=\"24px\"viewBox=\"0 0 24 24\"\n",
              "       width=\"24px\">\n",
              "    <path d=\"M0 0h24v24H0V0z\" fill=\"none\"/>\n",
              "    <path d=\"M18.56 5.44l.94 2.06.94-2.06 2.06-.94-2.06-.94-.94-2.06-.94 2.06-2.06.94zm-11 1L8.5 8.5l.94-2.06 2.06-.94-2.06-.94L8.5 2.5l-.94 2.06-2.06.94zm10 10l.94 2.06.94-2.06 2.06-.94-2.06-.94-.94-2.06-.94 2.06-2.06.94z\"/><path d=\"M17.41 7.96l-1.37-1.37c-.4-.4-.92-.59-1.43-.59-.52 0-1.04.2-1.43.59L10.3 9.45l-7.72 7.72c-.78.78-.78 2.05 0 2.83L4 21.41c.39.39.9.59 1.41.59.51 0 1.02-.2 1.41-.59l7.78-7.78 2.81-2.81c.8-.78.8-2.07 0-2.86zM5.41 20L4 18.59l7.72-7.72 1.47 1.35L5.41 20z\"/>\n",
              "  </svg>\n",
              "      </button>\n",
              "      \n",
              "  <style>\n",
              "    .colab-df-container {\n",
              "      display:flex;\n",
              "      flex-wrap:wrap;\n",
              "      gap: 12px;\n",
              "    }\n",
              "\n",
              "    .colab-df-convert {\n",
              "      background-color: #E8F0FE;\n",
              "      border: none;\n",
              "      border-radius: 50%;\n",
              "      cursor: pointer;\n",
              "      display: none;\n",
              "      fill: #1967D2;\n",
              "      height: 32px;\n",
              "      padding: 0 0 0 0;\n",
              "      width: 32px;\n",
              "    }\n",
              "\n",
              "    .colab-df-convert:hover {\n",
              "      background-color: #E2EBFA;\n",
              "      box-shadow: 0px 1px 2px rgba(60, 64, 67, 0.3), 0px 1px 3px 1px rgba(60, 64, 67, 0.15);\n",
              "      fill: #174EA6;\n",
              "    }\n",
              "\n",
              "    [theme=dark] .colab-df-convert {\n",
              "      background-color: #3B4455;\n",
              "      fill: #D2E3FC;\n",
              "    }\n",
              "\n",
              "    [theme=dark] .colab-df-convert:hover {\n",
              "      background-color: #434B5C;\n",
              "      box-shadow: 0px 1px 3px 1px rgba(0, 0, 0, 0.15);\n",
              "      filter: drop-shadow(0px 1px 2px rgba(0, 0, 0, 0.3));\n",
              "      fill: #FFFFFF;\n",
              "    }\n",
              "  </style>\n",
              "\n",
              "      <script>\n",
              "        const buttonEl =\n",
              "          document.querySelector('#df-a09542ed-11fc-4026-a83f-424950a86ef9 button.colab-df-convert');\n",
              "        buttonEl.style.display =\n",
              "          google.colab.kernel.accessAllowed ? 'block' : 'none';\n",
              "\n",
              "        async function convertToInteractive(key) {\n",
              "          const element = document.querySelector('#df-a09542ed-11fc-4026-a83f-424950a86ef9');\n",
              "          const dataTable =\n",
              "            await google.colab.kernel.invokeFunction('convertToInteractive',\n",
              "                                                     [key], {});\n",
              "          if (!dataTable) return;\n",
              "\n",
              "          const docLinkHtml = 'Like what you see? Visit the ' +\n",
              "            '<a target=\"_blank\" href=https://colab.research.google.com/notebooks/data_table.ipynb>data table notebook</a>'\n",
              "            + ' to learn more about interactive tables.';\n",
              "          element.innerHTML = '';\n",
              "          dataTable['output_type'] = 'display_data';\n",
              "          await google.colab.output.renderOutput(dataTable, element);\n",
              "          const docLink = document.createElement('div');\n",
              "          docLink.innerHTML = docLinkHtml;\n",
              "          element.appendChild(docLink);\n",
              "        }\n",
              "      </script>\n",
              "    </div>\n",
              "  </div>\n",
              "  "
            ],
            "text/plain": [
              "      rating review_count  isbn booktype author_url  year genre_urls                              dir rating_count  name\n",
              "3643     NaN         None  None     None       None   NaN        NaN  dir37/9658936-harry-potter.html         None  None\n",
              "5282     NaN         None  None     None       None   NaN        NaN     dir53/113138.The_Winner.html         None  None"
            ]
          },
          "metadata": {},
          "execution_count": 7
        }
      ]
    },
    {
      "cell_type": "markdown",
      "metadata": {
        "id": "eo0Y5K91QLdp"
      },
      "source": [
        "How does `pandas` or `numpy` handle missing values when we try to compute with data sets that include them?"
      ]
    },
    {
      "cell_type": "markdown",
      "metadata": {
        "id": "0oFsjf0tQLdp"
      },
      "source": [
        "We'll now check if any of the other suspicious columns have missing values.  Let's look at `year` and `review_count` first.\n",
        "\n",
        "One thing you can do is to try and convert to the type you expect the column to be. If something goes wrong, it likely means your data are bad."
      ]
    },
    {
      "cell_type": "markdown",
      "metadata": {
        "id": "TloZZlvcQLdp"
      },
      "source": [
        "Lets test for missing data:"
      ]
    },
    {
      "cell_type": "code",
      "metadata": {
        "colab": {
          "base_uri": "https://localhost:8080/",
          "height": 269
        },
        "id": "q1ua0laiQLdp",
        "outputId": "9ed32547-813b-4843-9cba-86e8ace786de"
      },
      "source": [
        "df[df.year.isnull()]"
      ],
      "execution_count": 8,
      "outputs": [
        {
          "output_type": "execute_result",
          "data": {
            "text/html": [
              "\n",
              "  <div id=\"df-df6a4da2-1e8e-4ef9-ab2b-a0ee73ed3daf\">\n",
              "    <div class=\"colab-df-container\">\n",
              "      <div>\n",
              "<style scoped>\n",
              "    .dataframe tbody tr th:only-of-type {\n",
              "        vertical-align: middle;\n",
              "    }\n",
              "\n",
              "    .dataframe tbody tr th {\n",
              "        vertical-align: top;\n",
              "    }\n",
              "\n",
              "    .dataframe thead th {\n",
              "        text-align: right;\n",
              "    }\n",
              "</style>\n",
              "<table border=\"1\" class=\"dataframe\">\n",
              "  <thead>\n",
              "    <tr style=\"text-align: right;\">\n",
              "      <th></th>\n",
              "      <th>rating</th>\n",
              "      <th>review_count</th>\n",
              "      <th>isbn</th>\n",
              "      <th>booktype</th>\n",
              "      <th>author_url</th>\n",
              "      <th>year</th>\n",
              "      <th>genre_urls</th>\n",
              "      <th>dir</th>\n",
              "      <th>rating_count</th>\n",
              "      <th>name</th>\n",
              "    </tr>\n",
              "  </thead>\n",
              "  <tbody>\n",
              "    <tr>\n",
              "      <th>2442</th>\n",
              "      <td>4.23</td>\n",
              "      <td>526</td>\n",
              "      <td>NaN</td>\n",
              "      <td>good_reads:book</td>\n",
              "      <td>https://www.goodreads.com/author/show/623606.A...</td>\n",
              "      <td>NaN</td>\n",
              "      <td>/genres/religion|/genres/islam|/genres/non-fic...</td>\n",
              "      <td>dir25/1301625.La_Tahzan.html</td>\n",
              "      <td>4134</td>\n",
              "      <td>La Tahzan</td>\n",
              "    </tr>\n",
              "    <tr>\n",
              "      <th>2869</th>\n",
              "      <td>4.61</td>\n",
              "      <td>2</td>\n",
              "      <td>NaN</td>\n",
              "      <td>good_reads:book</td>\n",
              "      <td>https://www.goodreads.com/author/show/8182217....</td>\n",
              "      <td>NaN</td>\n",
              "      <td>NaN</td>\n",
              "      <td>dir29/22031070-my-death-experiences---a-preach...</td>\n",
              "      <td>23</td>\n",
              "      <td>My Death Experiences - A Preacherâs 18 Apoca...</td>\n",
              "    </tr>\n",
              "    <tr>\n",
              "      <th>3643</th>\n",
              "      <td>NaN</td>\n",
              "      <td>None</td>\n",
              "      <td>None</td>\n",
              "      <td>None</td>\n",
              "      <td>None</td>\n",
              "      <td>NaN</td>\n",
              "      <td>NaN</td>\n",
              "      <td>dir37/9658936-harry-potter.html</td>\n",
              "      <td>None</td>\n",
              "      <td>None</td>\n",
              "    </tr>\n",
              "    <tr>\n",
              "      <th>5282</th>\n",
              "      <td>NaN</td>\n",
              "      <td>None</td>\n",
              "      <td>None</td>\n",
              "      <td>None</td>\n",
              "      <td>None</td>\n",
              "      <td>NaN</td>\n",
              "      <td>NaN</td>\n",
              "      <td>dir53/113138.The_Winner.html</td>\n",
              "      <td>None</td>\n",
              "      <td>None</td>\n",
              "    </tr>\n",
              "    <tr>\n",
              "      <th>5572</th>\n",
              "      <td>3.71</td>\n",
              "      <td>35</td>\n",
              "      <td>8423336603</td>\n",
              "      <td>good_reads:book</td>\n",
              "      <td>https://www.goodreads.com/author/show/285658.E...</td>\n",
              "      <td>NaN</td>\n",
              "      <td>/genres/fiction</td>\n",
              "      <td>dir56/890680._rase_una_vez_el_amor_pero_tuve_q...</td>\n",
              "      <td>403</td>\n",
              "      <td>Ãrase una vez el amor pero tuve que matarlo. ...</td>\n",
              "    </tr>\n",
              "    <tr>\n",
              "      <th>5658</th>\n",
              "      <td>4.32</td>\n",
              "      <td>44</td>\n",
              "      <td>NaN</td>\n",
              "      <td>good_reads:book</td>\n",
              "      <td>https://www.goodreads.com/author/show/25307.Ro...</td>\n",
              "      <td>NaN</td>\n",
              "      <td>/genres/fantasy|/genres/fantasy|/genres/epic-f...</td>\n",
              "      <td>dir57/5533041-assassin-s-apprentice-royal-assa...</td>\n",
              "      <td>3850</td>\n",
              "      <td>Assassin's Apprentice / Royal Assassin (Farsee...</td>\n",
              "    </tr>\n",
              "    <tr>\n",
              "      <th>5683</th>\n",
              "      <td>4.56</td>\n",
              "      <td>204</td>\n",
              "      <td>NaN</td>\n",
              "      <td>good_reads:book</td>\n",
              "      <td>https://www.goodreads.com/author/show/3097905....</td>\n",
              "      <td>NaN</td>\n",
              "      <td>/genres/fantasy|/genres/young-adult|/genres/ro...</td>\n",
              "      <td>dir57/12474623-tiger-s-dream.html</td>\n",
              "      <td>895</td>\n",
              "      <td>Tiger's Dream (The Tiger Saga, #5)</td>\n",
              "    </tr>\n",
              "  </tbody>\n",
              "</table>\n",
              "</div>\n",
              "      <button class=\"colab-df-convert\" onclick=\"convertToInteractive('df-df6a4da2-1e8e-4ef9-ab2b-a0ee73ed3daf')\"\n",
              "              title=\"Convert this dataframe to an interactive table.\"\n",
              "              style=\"display:none;\">\n",
              "        \n",
              "  <svg xmlns=\"http://www.w3.org/2000/svg\" height=\"24px\"viewBox=\"0 0 24 24\"\n",
              "       width=\"24px\">\n",
              "    <path d=\"M0 0h24v24H0V0z\" fill=\"none\"/>\n",
              "    <path d=\"M18.56 5.44l.94 2.06.94-2.06 2.06-.94-2.06-.94-.94-2.06-.94 2.06-2.06.94zm-11 1L8.5 8.5l.94-2.06 2.06-.94-2.06-.94L8.5 2.5l-.94 2.06-2.06.94zm10 10l.94 2.06.94-2.06 2.06-.94-2.06-.94-.94-2.06-.94 2.06-2.06.94z\"/><path d=\"M17.41 7.96l-1.37-1.37c-.4-.4-.92-.59-1.43-.59-.52 0-1.04.2-1.43.59L10.3 9.45l-7.72 7.72c-.78.78-.78 2.05 0 2.83L4 21.41c.39.39.9.59 1.41.59.51 0 1.02-.2 1.41-.59l7.78-7.78 2.81-2.81c.8-.78.8-2.07 0-2.86zM5.41 20L4 18.59l7.72-7.72 1.47 1.35L5.41 20z\"/>\n",
              "  </svg>\n",
              "      </button>\n",
              "      \n",
              "  <style>\n",
              "    .colab-df-container {\n",
              "      display:flex;\n",
              "      flex-wrap:wrap;\n",
              "      gap: 12px;\n",
              "    }\n",
              "\n",
              "    .colab-df-convert {\n",
              "      background-color: #E8F0FE;\n",
              "      border: none;\n",
              "      border-radius: 50%;\n",
              "      cursor: pointer;\n",
              "      display: none;\n",
              "      fill: #1967D2;\n",
              "      height: 32px;\n",
              "      padding: 0 0 0 0;\n",
              "      width: 32px;\n",
              "    }\n",
              "\n",
              "    .colab-df-convert:hover {\n",
              "      background-color: #E2EBFA;\n",
              "      box-shadow: 0px 1px 2px rgba(60, 64, 67, 0.3), 0px 1px 3px 1px rgba(60, 64, 67, 0.15);\n",
              "      fill: #174EA6;\n",
              "    }\n",
              "\n",
              "    [theme=dark] .colab-df-convert {\n",
              "      background-color: #3B4455;\n",
              "      fill: #D2E3FC;\n",
              "    }\n",
              "\n",
              "    [theme=dark] .colab-df-convert:hover {\n",
              "      background-color: #434B5C;\n",
              "      box-shadow: 0px 1px 3px 1px rgba(0, 0, 0, 0.15);\n",
              "      filter: drop-shadow(0px 1px 2px rgba(0, 0, 0, 0.3));\n",
              "      fill: #FFFFFF;\n",
              "    }\n",
              "  </style>\n",
              "\n",
              "      <script>\n",
              "        const buttonEl =\n",
              "          document.querySelector('#df-df6a4da2-1e8e-4ef9-ab2b-a0ee73ed3daf button.colab-df-convert');\n",
              "        buttonEl.style.display =\n",
              "          google.colab.kernel.accessAllowed ? 'block' : 'none';\n",
              "\n",
              "        async function convertToInteractive(key) {\n",
              "          const element = document.querySelector('#df-df6a4da2-1e8e-4ef9-ab2b-a0ee73ed3daf');\n",
              "          const dataTable =\n",
              "            await google.colab.kernel.invokeFunction('convertToInteractive',\n",
              "                                                     [key], {});\n",
              "          if (!dataTable) return;\n",
              "\n",
              "          const docLinkHtml = 'Like what you see? Visit the ' +\n",
              "            '<a target=\"_blank\" href=https://colab.research.google.com/notebooks/data_table.ipynb>data table notebook</a>'\n",
              "            + ' to learn more about interactive tables.';\n",
              "          element.innerHTML = '';\n",
              "          dataTable['output_type'] = 'display_data';\n",
              "          await google.colab.output.renderOutput(dataTable, element);\n",
              "          const docLink = document.createElement('div');\n",
              "          docLink.innerHTML = docLinkHtml;\n",
              "          element.appendChild(docLink);\n",
              "        }\n",
              "      </script>\n",
              "    </div>\n",
              "  </div>\n",
              "  "
            ],
            "text/plain": [
              "      rating review_count        isbn         booktype                                         author_url  year                                         genre_urls                                                dir rating_count                                               name\n",
              "2442    4.23          526         NaN  good_reads:book  https://www.goodreads.com/author/show/623606.A...   NaN  /genres/religion|/genres/islam|/genres/non-fic...                       dir25/1301625.La_Tahzan.html         4134                                          La Tahzan\n",
              "2869    4.61            2         NaN  good_reads:book  https://www.goodreads.com/author/show/8182217....   NaN                                                NaN  dir29/22031070-my-death-experiences---a-preach...           23  My Death Experiences - A Preacherâs 18 Apoca...\n",
              "3643     NaN         None        None             None                                               None   NaN                                                NaN                    dir37/9658936-harry-potter.html         None                                               None\n",
              "5282     NaN         None        None             None                                               None   NaN                                                NaN                       dir53/113138.The_Winner.html         None                                               None\n",
              "5572    3.71           35  8423336603  good_reads:book  https://www.goodreads.com/author/show/285658.E...   NaN                                    /genres/fiction  dir56/890680._rase_una_vez_el_amor_pero_tuve_q...          403  Ãrase una vez el amor pero tuve que matarlo. ...\n",
              "5658    4.32           44         NaN  good_reads:book  https://www.goodreads.com/author/show/25307.Ro...   NaN  /genres/fantasy|/genres/fantasy|/genres/epic-f...  dir57/5533041-assassin-s-apprentice-royal-assa...         3850  Assassin's Apprentice / Royal Assassin (Farsee...\n",
              "5683    4.56          204         NaN  good_reads:book  https://www.goodreads.com/author/show/3097905....   NaN  /genres/fantasy|/genres/young-adult|/genres/ro...                  dir57/12474623-tiger-s-dream.html          895                 Tiger's Dream (The Tiger Saga, #5)"
            ]
          },
          "metadata": {},
          "execution_count": 8
        }
      ]
    },
    {
      "cell_type": "markdown",
      "metadata": {
        "id": "Ue_c3f4qQLdp"
      },
      "source": [
        "### Cleaning: Dealing with Missing Values\n",
        "How should we interpret 'missing' or 'invalid' values in the data (hint: look at where these values occur)? One approach is to simply exclude them from the dataframe. Is this appropriate for all 'missing' or 'invalid' values? "
      ]
    },
    {
      "cell_type": "code",
      "metadata": {
        "id": "6A0daHDmQLdq"
      },
      "source": [
        "#Treat the missing or invalid values in your dataframe\n",
        "####### \n",
        "\n",
        "df = df[df.year.notnull()]"
      ],
      "execution_count": 9,
      "outputs": []
    },
    {
      "cell_type": "markdown",
      "metadata": {
        "id": "KCtHQUdXQLdq"
      },
      "source": [
        "Ok so we have done some cleaning. What do things look like now? Notice the float has not yet changed."
      ]
    },
    {
      "cell_type": "code",
      "metadata": {
        "colab": {
          "base_uri": "https://localhost:8080/"
        },
        "id": "S9rMhCQHQLdq",
        "outputId": "e84b64ad-5fb7-4df9-fffa-2f4b11eae00e"
      },
      "source": [
        "df.dtypes"
      ],
      "execution_count": 10,
      "outputs": [
        {
          "output_type": "execute_result",
          "data": {
            "text/plain": [
              "rating          float64\n",
              "review_count     object\n",
              "isbn             object\n",
              "booktype         object\n",
              "author_url       object\n",
              "year            float64\n",
              "genre_urls       object\n",
              "dir              object\n",
              "rating_count     object\n",
              "name             object\n",
              "dtype: object"
            ]
          },
          "metadata": {},
          "execution_count": 10
        }
      ]
    },
    {
      "cell_type": "code",
      "metadata": {
        "colab": {
          "base_uri": "https://localhost:8080/"
        },
        "id": "gLHPSJSEQLdq",
        "outputId": "6a303de6-0794-40bb-de8e-7721231b7cf1"
      },
      "source": [
        "print(np.sum(df.year.isnull()))\n",
        "print(np.sum(df.rating_count.isnull())) \n",
        "print(np.sum(df.review_count.isnull())) \n",
        "# We removed seven rows\n",
        "df.shape"
      ],
      "execution_count": 11,
      "outputs": [
        {
          "output_type": "stream",
          "name": "stdout",
          "text": [
            "0\n",
            "0\n",
            "0\n"
          ]
        },
        {
          "output_type": "execute_result",
          "data": {
            "text/plain": [
              "(5993, 10)"
            ]
          },
          "metadata": {},
          "execution_count": 11
        }
      ]
    },
    {
      "cell_type": "markdown",
      "metadata": {
        "id": "bSzH8b3HQLdq"
      },
      "source": [
        "*Suspect observations for rating and rating_count were removed as well! *"
      ]
    },
    {
      "cell_type": "markdown",
      "metadata": {
        "id": "pWwHizZZQLdq"
      },
      "source": [
        "<div class=\"exercise\"><b>Exercise</b></div>\n",
        "\n",
        "Ok so lets fix those types. Convert them to ints. If the type conversion fails, we now know we have further problems."
      ]
    },
    {
      "cell_type": "code",
      "metadata": {
        "id": "eoMXBkBmQLdq"
      },
      "source": [
        ""
      ],
      "execution_count": 11,
      "outputs": []
    },
    {
      "cell_type": "markdown",
      "metadata": {
        "id": "P_9DBKQ3QLdq"
      },
      "source": [
        "Once you do this, we seem to be good on these columns (no errors in conversion). Lets look:"
      ]
    },
    {
      "cell_type": "code",
      "metadata": {
        "colab": {
          "base_uri": "https://localhost:8080/"
        },
        "id": "Zr0So_wsQLdq",
        "outputId": "54b2b375-c8ea-4707-a269-284c6db6bc28"
      },
      "source": [
        "df.dtypes"
      ],
      "execution_count": 12,
      "outputs": [
        {
          "output_type": "execute_result",
          "data": {
            "text/plain": [
              "rating          float64\n",
              "review_count     object\n",
              "isbn             object\n",
              "booktype         object\n",
              "author_url       object\n",
              "year            float64\n",
              "genre_urls       object\n",
              "dir              object\n",
              "rating_count     object\n",
              "name             object\n",
              "dtype: object"
            ]
          },
          "metadata": {},
          "execution_count": 12
        }
      ]
    },
    {
      "cell_type": "markdown",
      "metadata": {
        "id": "njFKn_lSQLdr"
      },
      "source": [
        "Sweet!"
      ]
    },
    {
      "cell_type": "markdown",
      "metadata": {
        "id": "FIIVfJyYQLdr"
      },
      "source": [
        "Some of the other colums that should be strings have NaN."
      ]
    },
    {
      "cell_type": "code",
      "metadata": {
        "id": "UNv-vNG8QLdr"
      },
      "source": [
        "df.loc[df.genre_urls.isnull(), 'genre_urls']=\"\"\n",
        "df.loc[df.isbn.isnull(), 'isbn']=\"\""
      ],
      "execution_count": 13,
      "outputs": []
    },
    {
      "cell_type": "markdown",
      "metadata": {
        "id": "B-y3TvqgQLdr"
      },
      "source": [
        "##  Part 2: Parsing and Completing the Data Frame \n",
        "\n",
        "We will parse the `author` column from the author_url and `genres` column from the genre_urls. Keep the `genres` column as a string separated by '|'.\n",
        "\n",
        "We will use panda's `map` to assign new columns to the dataframe.  "
      ]
    },
    {
      "cell_type": "markdown",
      "metadata": {
        "id": "F_uI0c7LQLdr"
      },
      "source": [
        "Examine an example `author_url` and reason about which sequence of string operations must be performed in order to isolate the author's name."
      ]
    },
    {
      "cell_type": "code",
      "metadata": {
        "colab": {
          "base_uri": "https://localhost:8080/",
          "height": 35
        },
        "id": "HwuTBetuQLdr",
        "outputId": "5adb3374-c99b-4b86-bdae-7549fe1f20d9"
      },
      "source": [
        "#Get the first author_url\n",
        "test_string = df.author_url[0]\n",
        "test_string"
      ],
      "execution_count": 14,
      "outputs": [
        {
          "output_type": "execute_result",
          "data": {
            "application/vnd.google.colaboratory.intrinsic+json": {
              "type": "string"
            },
            "text/plain": [
              "'https://www.goodreads.com/author/show/153394.Suzanne_Collins'"
            ]
          },
          "metadata": {},
          "execution_count": 14
        }
      ]
    },
    {
      "cell_type": "code",
      "metadata": {
        "colab": {
          "base_uri": "https://localhost:8080/",
          "height": 35
        },
        "id": "4geLRYEMQLdr",
        "outputId": "0fc0ddaa-fe4d-45a0-ad03-5ad0f021057e"
      },
      "source": [
        "#Test out some string operations to isolate the author name\n",
        "\n",
        "test_string.split('/')[-1].split('.')[1:][0]"
      ],
      "execution_count": 15,
      "outputs": [
        {
          "output_type": "execute_result",
          "data": {
            "application/vnd.google.colaboratory.intrinsic+json": {
              "type": "string"
            },
            "text/plain": [
              "'Suzanne_Collins'"
            ]
          },
          "metadata": {},
          "execution_count": 15
        }
      ]
    },
    {
      "cell_type": "markdown",
      "metadata": {
        "id": "ZJxtV5_oQLdr"
      },
      "source": [
        "<div class=\"exercise\"><b>Exercise</b></div>\n",
        "\n",
        "Lets wrap the above code into a function which we will then use"
      ]
    },
    {
      "cell_type": "code",
      "metadata": {
        "id": "NLwBLDzLQLds"
      },
      "source": [
        ""
      ],
      "execution_count": 15,
      "outputs": []
    },
    {
      "cell_type": "code",
      "metadata": {
        "id": "hZh9Bx_dQLds"
      },
      "source": [
        ""
      ],
      "execution_count": 15,
      "outputs": []
    },
    {
      "cell_type": "markdown",
      "metadata": {
        "id": "zi2DQlz6QLds"
      },
      "source": [
        "<div class=\"exercise\"><b>Exercise</b></div>\n",
        "\n",
        "Now parse out the genres from `genre_url`.  \n",
        "\n",
        "This is a little more complicated because there be more than one genre.\n"
      ]
    },
    {
      "cell_type": "code",
      "metadata": {
        "id": "mqhQ9-GkQLds"
      },
      "source": [
        ""
      ],
      "execution_count": 15,
      "outputs": []
    },
    {
      "cell_type": "code",
      "metadata": {
        "id": "U2KFfQK_QLds"
      },
      "source": [
        ""
      ],
      "execution_count": 15,
      "outputs": []
    },
    {
      "cell_type": "markdown",
      "metadata": {
        "id": "H7q8Z_6kQLds"
      },
      "source": [
        "<div class=\"exercise\"><b>Exercise</b></div>\n",
        "\n",
        "Write a function that accepts a genre url and returns the genre name based on your experimentation above\n",
        "\n"
      ]
    },
    {
      "cell_type": "code",
      "metadata": {
        "id": "cqkcqu5VQLds"
      },
      "source": [
        ""
      ],
      "execution_count": 15,
      "outputs": []
    },
    {
      "cell_type": "markdown",
      "metadata": {
        "id": "LmUFy4rtQLds"
      },
      "source": [
        "Test your function"
      ]
    },
    {
      "cell_type": "code",
      "metadata": {
        "id": "bCMjUmN0QLds"
      },
      "source": [
        ""
      ],
      "execution_count": 16,
      "outputs": []
    },
    {
      "cell_type": "code",
      "metadata": {
        "id": "Tx4IAPpFQLds"
      },
      "source": [
        ""
      ],
      "execution_count": 16,
      "outputs": []
    },
    {
      "cell_type": "markdown",
      "metadata": {
        "id": "JhekPPnsQLdt"
      },
      "source": [
        "<div class=\"exercise\"><b>Exercise</b></div>\n",
        "\n",
        "Use map again to create a new \"genres\" column"
      ]
    },
    {
      "cell_type": "code",
      "metadata": {
        "id": "pEhZYhL7QLdt"
      },
      "source": [
        ""
      ],
      "execution_count": 16,
      "outputs": []
    },
    {
      "cell_type": "markdown",
      "metadata": {
        "id": "ZBopyiVeQLdt"
      },
      "source": [
        "Finally, let's pick an author at random so we can see the results of the transformations.  Scroll to see the `author` and `genre` columns that we added to the dataframe."
      ]
    },
    {
      "cell_type": "code",
      "metadata": {
        "id": "C-Tu8N0QQLdt"
      },
      "source": [
        ""
      ],
      "execution_count": 16,
      "outputs": []
    },
    {
      "cell_type": "markdown",
      "metadata": {
        "id": "tYEyuhUHQLdt"
      },
      "source": [
        "Let us delete the `genre_urls` column."
      ]
    },
    {
      "cell_type": "code",
      "metadata": {
        "id": "_BBoldodQLdt"
      },
      "source": [
        ""
      ],
      "execution_count": 16,
      "outputs": []
    },
    {
      "cell_type": "markdown",
      "metadata": {
        "id": "8omJMPVoQLdt"
      },
      "source": [
        "And then save the dataframe out!"
      ]
    },
    {
      "cell_type": "code",
      "metadata": {
        "id": "YUacMi9UQLdt"
      },
      "source": [
        ""
      ],
      "execution_count": 16,
      "outputs": []
    },
    {
      "cell_type": "markdown",
      "metadata": {
        "id": "eI0G_VGRQLdt"
      },
      "source": [
        "---"
      ]
    },
    {
      "cell_type": "markdown",
      "metadata": {
        "id": "221aCAotQLdt"
      },
      "source": [
        "## Part 3: Grouping "
      ]
    },
    {
      "cell_type": "markdown",
      "metadata": {
        "id": "xxznvzUSQLdu"
      },
      "source": [
        "It appears that some books were written in negative years!  Print out the observations that correspond to negative years.  What do you notice about these books?  "
      ]
    },
    {
      "cell_type": "code",
      "metadata": {
        "id": "vTWVFLA1QLdu"
      },
      "source": [
        ""
      ],
      "execution_count": 16,
      "outputs": []
    },
    {
      "cell_type": "markdown",
      "metadata": {
        "id": "xpxCWS6hQLdu"
      },
      "source": [
        "We can determine the \"best book\" by year! For this we use Pandas groupby. Groupby allows grouping a dataframe by any (usually categorical) variable."
      ]
    },
    {
      "cell_type": "code",
      "metadata": {
        "id": "8ljsikbUQLdu"
      },
      "source": [
        ""
      ],
      "execution_count": 16,
      "outputs": []
    },
    {
      "cell_type": "markdown",
      "metadata": {
        "id": "Nt1KYQn1QLdu"
      },
      "source": [
        "Perhaps we want the number of books each author wrote"
      ]
    },
    {
      "cell_type": "code",
      "metadata": {
        "id": "Kz6ZAtSeQLdu"
      },
      "source": [
        ""
      ],
      "execution_count": 16,
      "outputs": []
    },
    {
      "cell_type": "markdown",
      "metadata": {
        "id": "M-MqIQDNQLdu"
      },
      "source": [
        "Lots of useless info there. One column should suffice"
      ]
    },
    {
      "cell_type": "code",
      "metadata": {
        "id": "H46rCk8MQLdu"
      },
      "source": [
        ""
      ],
      "execution_count": 16,
      "outputs": []
    },
    {
      "cell_type": "markdown",
      "metadata": {
        "id": "KlE7rjaJQLdu"
      },
      "source": [
        "Perhaps you want more detailed info..."
      ]
    },
    {
      "cell_type": "code",
      "metadata": {
        "scrolled": true,
        "id": "grKu8EcWQLdu"
      },
      "source": [
        ""
      ],
      "execution_count": 16,
      "outputs": []
    },
    {
      "cell_type": "markdown",
      "metadata": {
        "id": "Oc70KJ1ZQLdv"
      },
      "source": [
        "You can also access a `groupby` dictionary style."
      ]
    },
    {
      "cell_type": "code",
      "metadata": {
        "scrolled": false,
        "id": "bI9X4dP3QLdv"
      },
      "source": [
        ""
      ],
      "execution_count": 16,
      "outputs": []
    },
    {
      "cell_type": "markdown",
      "metadata": {
        "id": "TZMxedU4QLdv"
      },
      "source": [
        "<div class=\"exercise\"><b>Exercise</b></div>\n",
        "\n",
        "Lets get the best-rated book(s) for every year in our dataframe."
      ]
    },
    {
      "cell_type": "code",
      "metadata": {
        "id": "1b7uOtYXQLdv"
      },
      "source": [
        ""
      ],
      "execution_count": 16,
      "outputs": []
    }
  ]
}